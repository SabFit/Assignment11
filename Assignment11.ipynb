{
 "cells": [
  {
   "cell_type": "markdown",
   "id": "8a8435ca-bc1a-45d8-b013-84ab089825ad",
   "metadata": {},
   "source": [
    "1. Create an assert statement that throws an AssertionError if the variable spam is a negative\n",
    "integer."
   ]
  },
  {
   "cell_type": "markdown",
   "id": "cbe903c2-c9cd-4ee5-b435-7be2137faa44",
   "metadata": {},
   "source": [
    "Ans.  assert statement is used to continue the execute if the given condition evaluates to True. If the assert condition evaluates to False, then it raises the AssertionError exception with the specified error message"
   ]
  },
  {
   "cell_type": "code",
   "execution_count": 1,
   "id": "ff637de4-5804-4a02-8666-0c393c1f380e",
   "metadata": {},
   "outputs": [
    {
     "name": "stdout",
     "output_type": "stream",
     "text": [
      "Collecting pyinputplus\n",
      "  Downloading PyInputPlus-0.2.12.tar.gz (20 kB)\n",
      "  Installing build dependencies ... \u001b[?25ldone\n",
      "\u001b[?25h  Getting requirements to build wheel ... \u001b[?25ldone\n",
      "\u001b[?25h  Preparing metadata (pyproject.toml) ... \u001b[?25ldone\n",
      "\u001b[?25hCollecting pysimplevalidate>=0.2.7\n",
      "  Downloading PySimpleValidate-0.2.12.tar.gz (22 kB)\n",
      "  Installing build dependencies ... \u001b[?25ldone\n",
      "\u001b[?25h  Getting requirements to build wheel ... \u001b[?25ldone\n",
      "\u001b[?25h  Preparing metadata (pyproject.toml) ... \u001b[?25ldone\n",
      "\u001b[?25hCollecting stdiomask>=0.0.3\n",
      "  Downloading stdiomask-0.0.6.tar.gz (3.6 kB)\n",
      "  Installing build dependencies ... \u001b[?25ldone\n",
      "\u001b[?25h  Getting requirements to build wheel ... \u001b[?25ldone\n",
      "\u001b[?25h  Preparing metadata (pyproject.toml) ... \u001b[?25ldone\n",
      "\u001b[?25hBuilding wheels for collected packages: pyinputplus, pysimplevalidate, stdiomask\n",
      "  Building wheel for pyinputplus (pyproject.toml) ... \u001b[?25ldone\n",
      "\u001b[?25h  Created wheel for pyinputplus: filename=PyInputPlus-0.2.12-py3-none-any.whl size=11297 sha256=f5a7b08372bd0e79366aeaf777b120fd428a8e5e59e233248decca49925f331e\n",
      "  Stored in directory: /home/jovyan/.cache/pip/wheels/2d/72/d9/818396cecb072b3d697a47b007d9bbad74859a83a635e47d4d\n",
      "  Building wheel for pysimplevalidate (pyproject.toml) ... \u001b[?25ldone\n",
      "\u001b[?25h  Created wheel for pysimplevalidate: filename=PySimpleValidate-0.2.12-py3-none-any.whl size=16176 sha256=df622dc6430676ee02362299753ee9fbeebb0caff9e541fc7ce3b7440e472a91\n",
      "  Stored in directory: /home/jovyan/.cache/pip/wheels/05/ad/4d/7289d8b9a519e88167728584876a1a1073a3f71666d875aba7\n",
      "  Building wheel for stdiomask (pyproject.toml) ... \u001b[?25ldone\n",
      "\u001b[?25h  Created wheel for stdiomask: filename=stdiomask-0.0.6-py3-none-any.whl size=3306 sha256=118582840b7a132af0b64b92816cfb95712c2c8313ef247b7eb927c1e943818a\n",
      "  Stored in directory: /home/jovyan/.cache/pip/wheels/41/ee/55/6e4b70f6248b280caae3d938bc543206bb1a75988b739f1238\n",
      "Successfully built pyinputplus pysimplevalidate stdiomask\n",
      "Installing collected packages: stdiomask, pysimplevalidate, pyinputplus\n",
      "Successfully installed pyinputplus-0.2.12 pysimplevalidate-0.2.12 stdiomask-0.0.6\n"
     ]
    }
   ],
   "source": [
    "!pip install pyinputplus"
   ]
  },
  {
   "cell_type": "code",
   "execution_count": 3,
   "id": "9fc7ac98-22bc-4284-929c-d1991d25a392",
   "metadata": {},
   "outputs": [
    {
     "name": "stdout",
     "output_type": "stream",
     "text": [
      "Enter positive number"
     ]
    },
    {
     "name": "stdin",
     "output_type": "stream",
     "text": [
      " -58\n"
     ]
    },
    {
     "ename": "AssertionError",
     "evalue": "",
     "output_type": "error",
     "traceback": [
      "\u001b[0;31m---------------------------------------------------------------------------\u001b[0m",
      "\u001b[0;31mAssertionError\u001b[0m                            Traceback (most recent call last)",
      "Cell \u001b[0;32mIn [3], line 3\u001b[0m\n\u001b[1;32m      1\u001b[0m \u001b[38;5;28;01mimport\u001b[39;00m \u001b[38;5;21;01mpyinputplus\u001b[39;00m \u001b[38;5;28;01mas\u001b[39;00m \u001b[38;5;21;01mpyip\u001b[39;00m\n\u001b[1;32m      2\u001b[0m spam\u001b[38;5;241m=\u001b[39mpyip\u001b[38;5;241m.\u001b[39minputNum(\u001b[38;5;124m\"\u001b[39m\u001b[38;5;124mEnter positive number\u001b[39m\u001b[38;5;124m\"\u001b[39m)\n\u001b[0;32m----> 3\u001b[0m \u001b[38;5;28;01massert\u001b[39;00m spam\u001b[38;5;241m>\u001b[39m\u001b[38;5;241m0\u001b[39m\n\u001b[1;32m      4\u001b[0m \u001b[38;5;28mprint\u001b[39m(spam,\u001b[38;5;124m'\u001b[39m\u001b[38;5;124mis a positive number\u001b[39m\u001b[38;5;124m'\u001b[39m)\n",
      "\u001b[0;31mAssertionError\u001b[0m: "
     ]
    }
   ],
   "source": [
    "import pyinputplus as pyip\n",
    "spam=pyip.inputNum(\"Enter positive number\")\n",
    "assert spam>0\n",
    "print(spam,'is a positive number')"
   ]
  },
  {
   "cell_type": "markdown",
   "id": "5611aba4-aff7-4b22-b5b4-9f678d357048",
   "metadata": {},
   "source": [
    "2. Write an assert statement that triggers an AssertionError if the variables eggs and bacon contain\n",
    "strings that are the same as each other, even if their cases are different (that is, &#39;hello&#39; and &#39;hello&#39; are\n",
    "considered the same, and &#39;goodbye&#39; and &#39;GOODbye&#39; are also considered the same)."
   ]
  },
  {
   "cell_type": "code",
   "execution_count": 4,
   "id": "64dc4f46-0862-41c7-b6b9-0216f508235a",
   "metadata": {},
   "outputs": [
    {
     "ename": "AssertionError",
     "evalue": "",
     "output_type": "error",
     "traceback": [
      "\u001b[0;31m---------------------------------------------------------------------------\u001b[0m",
      "\u001b[0;31mAssertionError\u001b[0m                            Traceback (most recent call last)",
      "Cell \u001b[0;32mIn [4], line 4\u001b[0m\n\u001b[1;32m      1\u001b[0m eggs\u001b[38;5;241m=\u001b[39m\u001b[38;5;124m'\u001b[39m\u001b[38;5;124mHello\u001b[39m\u001b[38;5;124m'\u001b[39m\n\u001b[1;32m      2\u001b[0m bacon \u001b[38;5;241m=\u001b[39m\u001b[38;5;124m'\u001b[39m\u001b[38;5;124mhello\u001b[39m\u001b[38;5;124m'\u001b[39m\n\u001b[0;32m----> 4\u001b[0m \u001b[38;5;28;01massert\u001b[39;00m eggs\u001b[38;5;241m.\u001b[39mlower() \u001b[38;5;241m!=\u001b[39m bacon\u001b[38;5;241m.\u001b[39mlower() \u001b[38;5;129;01mor\u001b[39;00m eggs\u001b[38;5;241m.\u001b[39mupper() \u001b[38;5;241m!=\u001b[39m bacon\u001b[38;5;241m.\u001b[39mupper()\n\u001b[1;32m      5\u001b[0m \u001b[38;5;28mprint\u001b[39m(\u001b[38;5;124m'\u001b[39m\u001b[38;5;124mThe eggs and bacon variables are not the same!\u001b[39m\u001b[38;5;124m'\u001b[39m)\n",
      "\u001b[0;31mAssertionError\u001b[0m: "
     ]
    }
   ],
   "source": [
    "\n",
    "eggs='Hello'\n",
    "bacon ='hello'\n",
    "\n",
    "assert eggs.lower() != bacon.lower() or eggs.upper() != bacon.upper()\n",
    "print('The eggs and bacon variables are not the same!')\n"
   ]
  },
  {
   "cell_type": "markdown",
   "id": "2fcdad86-08be-4f4f-add2-3f05d1b2069a",
   "metadata": {},
   "source": [
    "3. Create an assert statement that throws an AssertionError every time."
   ]
  },
  {
   "cell_type": "markdown",
   "id": "f299ff38-375e-4616-b53e-4cdd2e3cb0e7",
   "metadata": {},
   "source": [
    "Ans .assert False - this always triggers an exception\n"
   ]
  },
  {
   "cell_type": "markdown",
   "id": "8d69ff73-f536-4904-b181-08a21c2be81d",
   "metadata": {},
   "source": [
    "4. What are the two lines that must be present in your software in order to call logging.debug()?"
   ]
  },
  {
   "cell_type": "code",
   "execution_count": 5,
   "id": "f68b19e8-c3e9-4b8e-af70-38ae07b6149d",
   "metadata": {},
   "outputs": [],
   "source": [
    "import logging as lg\n",
    "lg.basicConfig(level=lg.DEBUG, format=' %(asctime)s - %(levelname)s - %(message)s')"
   ]
  },
  {
   "cell_type": "markdown",
   "id": "c68de955-f3ec-4d5a-a361-84eecc918eb9",
   "metadata": {},
   "source": [
    "5. What are the two lines that your program must have in order to have logging.debug() send a\n",
    "logging message to a file named programLog.txt?"
   ]
  },
  {
   "cell_type": "code",
   "execution_count": 6,
   "id": "2c7a5344-71c5-4f71-8a1c-f6acf9accaa1",
   "metadata": {},
   "outputs": [],
   "source": [
    "import logging as lg\n",
    "lg.basicConfig(filename='programLog.txt', level=lg.DEBUG, format=' %(asctime)s - %(levelname)s - %(message)s')\n"
   ]
  },
  {
   "cell_type": "markdown",
   "id": "8bb891cc-8930-408f-bc7f-4e984d89b60c",
   "metadata": {},
   "source": [
    "6. What are the five levels of logging?"
   ]
  },
  {
   "cell_type": "markdown",
   "id": "1cc6d85b-cdc1-414e-96b1-d7f16777dd04",
   "metadata": {},
   "source": [
    "logging.debug() - variable's state and small details\n",
    "\n",
    "logging.info() - general events, confirm a program is working\n",
    "\n",
    "logging.warning() - potiental problem to work on in the future\n",
    "\n",
    "logging.error() - record an error that caused program to fail to do something\n",
    "\n",
    "logging.critical() - fatal error that has caused"
   ]
  },
  {
   "cell_type": "markdown",
   "id": "ff67de3e-b88d-42ae-8c92-b6eac0132df5",
   "metadata": {},
   "source": [
    "7. What line of code would you add to your software to disable all logging messages?"
   ]
  },
  {
   "cell_type": "code",
   "execution_count": 7,
   "id": "fa1c5668-c979-4a86-a274-be19b5938a89",
   "metadata": {},
   "outputs": [],
   "source": [
    "import logging as lg\n",
    "lg.disable(lg.CRITICAL)\n"
   ]
  },
  {
   "cell_type": "markdown",
   "id": "d4cbe5b3-09b8-478f-bb64-261daac0eeeb",
   "metadata": {},
   "source": [
    "8.Why is using logging messages better than using print() to display the same message?"
   ]
  },
  {
   "cell_type": "markdown",
   "id": "808d97e1-636c-4e60-91e6-8fec9159d67f",
   "metadata": {},
   "source": [
    "Ans.\n",
    "\n",
    "You can disable logging messages without removing the logging function calls.\n",
    "\n",
    "You can selectively disable lower-level logging messages.\n",
    "\n",
    "You can create logging messages. Logging messages provides a timestamp."
   ]
  },
  {
   "cell_type": "markdown",
   "id": "12110595-c450-4e11-9b0e-b3822cbd0f2b",
   "metadata": {},
   "source": [
    "9. What are the differences between the Step Over, Step In, and Step Out buttons in the debugger?"
   ]
  },
  {
   "cell_type": "markdown",
   "id": "3a5dd047-adba-450b-8102-2260e2a488ff",
   "metadata": {},
   "source": [
    "Ans.\n",
    "\n",
    "The Step in button will move the debugger into a function call.\n",
    "\n",
    "The Over button will quickly execute the function call without stepping into it.\n",
    "\n",
    "The Out button will quickly execute the rest of the code until it steps out of the function it currently is in."
   ]
  },
  {
   "cell_type": "markdown",
   "id": "fa737afd-a8c4-4fa0-a25e-0f500f1ec9ce",
   "metadata": {},
   "source": [
    "10.After you click Continue, when will the debugger stop ?"
   ]
  },
  {
   "cell_type": "markdown",
   "id": "52fcd104-0e07-4c51-b914-f1fe00a5f216",
   "metadata": {},
   "source": [
    "Ans. It will stops at next breakpoint, if there are no further breakpoints program will be fully executed"
   ]
  },
  {
   "cell_type": "markdown",
   "id": "419d0d99-31ed-4180-b451-82a09158a6c5",
   "metadata": {},
   "source": [
    "11. What is the concept of a breakpoint?"
   ]
  },
  {
   "cell_type": "code",
   "execution_count": null,
   "id": "6104a107-7431-4ba5-89f9-543079105143",
   "metadata": {},
   "outputs": [],
   "source": [
    "Ans. A breakpoint is an intentional stopping point or pause put into a program for debugging purposes.\n"
   ]
  }
 ],
 "metadata": {
  "kernelspec": {
   "display_name": "Python 3 (ipykernel)",
   "language": "python",
   "name": "python3"
  },
  "language_info": {
   "codemirror_mode": {
    "name": "ipython",
    "version": 3
   },
   "file_extension": ".py",
   "mimetype": "text/x-python",
   "name": "python",
   "nbconvert_exporter": "python",
   "pygments_lexer": "ipython3",
   "version": "3.10.6"
  }
 },
 "nbformat": 4,
 "nbformat_minor": 5
}
